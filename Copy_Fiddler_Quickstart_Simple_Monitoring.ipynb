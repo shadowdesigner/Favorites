{
  "cells": [
    {
      "cell_type": "markdown",
      "metadata": {
        "id": "view-in-github",
        "colab_type": "text"
      },
      "source": [
        "<a href=\"https://colab.research.google.com/github/shadowdesigner/Favorites/blob/main/Copy_Fiddler_Quickstart_Simple_Monitoring.ipynb\" target=\"_parent\"><img src=\"https://colab.research.google.com/assets/colab-badge.svg\" alt=\"Open In Colab\"/></a>"
      ]
    },
    {
      "cell_type": "markdown",
      "metadata": {
        "id": "sF3cOBoVx9Ji"
      },
      "source": [
        "# Fiddler Simple Monitoring Quick Start Guide\n",
        "\n",
        "## Goal\n",
        "\n",
        "This guide provides a comprehensive tour of Fiddler's monitoring capabilities, demonstrating how to onboard a binary classification model and then layer on advanced features like proactive alerts, custom business metrics, user-defined segments, and multiple baseline strategies. 🗺️\n",
        "\n",
        "## Deep Dive Into Fiddler's Monitoring and Analytic Capabilities\n",
        "\n",
        "This notebook serves as a comprehensive introduction to Fiddler's powerful monitoring toolkit, using a customer churn model as the example. After walking through the fundamental steps of onboarding a binary classification model, the guide demonstrates how to build a robust, production-grade monitoring setup. You'll learn how to configure proactive alerts for data quality and performance, translate model metrics into business impact with custom metrics, isolate specific cohorts with segments, and implement both static and rolling baselines for powerful drift analysis. This guide showcases how these features work together to provide a complete view of your model's health.\n",
        "\n",
        "## About Fiddler\n",
        "\n",
        "Fiddler is the all-in-one AI Observability and Security platform for responsible AI. Monitoring and analytics capabilities provide a common language, centralized controls, and actionable insights to operationalize production ML models, GenAI, AI agents, and LLM applications with trust. An integral part of the platform, the Fiddler Trust Service provides quality and moderation controls for LLM applications. Powered by cost-effective, task-specific, and scalable Fiddler-developed trust models — including cloud and VPC deployments for secure environments — it delivers the fastest guardrails in the industry. Fortune 500 organizations utilize Fiddler to scale LLM and ML deployments, delivering high-performance AI, reducing costs, and ensuring responsible governance."
      ]
    },
    {
      "cell_type": "markdown",
      "metadata": {
        "id": "s19QVyJqGzBK"
      },
      "source": [
        "### Getting Started\n",
        "\n",
        "1. Connect to Fiddler\n",
        "2. Load a Data Sample\n",
        "3. Define the Model Specifications\n",
        "4. Set the Model Task\n",
        "5. Create a Model\n",
        "6. Set Up Alerts **(Optional)**\n",
        "7. Create a Custom Metric **(Optional)**\n",
        "8. Create a Segment **(Optional)**\n",
        "9. Publish a Pre-production Baseline **(Optional)**\n",
        "10. Configure a Rolling Baseline **(Optional)**\n",
        "11. Publish Production Events"
      ]
    },
    {
      "cell_type": "markdown",
      "metadata": {
        "id": "wUZi_5s7wsGA"
      },
      "source": [
        "# 0. Imports"
      ]
    },
    {
      "cell_type": "code",
      "execution_count": 1,
      "metadata": {
        "id": "Pg-BdRJ4w3LM",
        "outputId": "1d0f54de-51d8-4e91-a6e7-e8175498bc3e",
        "colab": {
          "base_uri": "https://localhost:8080/"
        }
      },
      "outputs": [
        {
          "output_type": "stream",
          "name": "stdout",
          "text": [
            "\u001b[2K   \u001b[90m━━━━━━━━━━━━━━━━━━━━━━━━━━━━━━━━━━━━━━━━\u001b[0m \u001b[32m201.0/201.0 kB\u001b[0m \u001b[31m3.8 MB/s\u001b[0m eta \u001b[36m0:00:00\u001b[0m\n",
            "\u001b[2K   \u001b[90m━━━━━━━━━━━━━━━━━━━━━━━━━━━━━━━━━━━━━━━━\u001b[0m \u001b[32m88.0/88.0 kB\u001b[0m \u001b[31m3.1 MB/s\u001b[0m eta \u001b[36m0:00:00\u001b[0m\n",
            "\u001b[?25hRunning Fiddler Python client version 3.10.0\n"
          ]
        }
      ],
      "source": [
        "%pip install -q fiddler-client\n",
        "\n",
        "import time as time\n",
        "\n",
        "import pandas as pd\n",
        "import fiddler as fdl\n",
        "\n",
        "print(f'Running Fiddler Python client version {fdl.__version__}')"
      ]
    },
    {
      "cell_type": "markdown",
      "metadata": {
        "id": "hcP0yWfV1GoZ"
      },
      "source": [
        "## 1. Connect to Fiddler\n",
        "\n",
        "Before you can add information about your model with Fiddler, you'll need to connect using the Fiddler Python client.\n",
        "\n",
        "\n",
        "---\n",
        "\n",
        "\n",
        "**We need a couple pieces of information to get started.**\n",
        "1. The URL you're using to connect to Fiddler\n",
        "2. Your authorization token\n",
        "\n",
        "Your authorization token can be found by navigating to the **Credentials** tab on the **Settings** page of your Fiddler environment."
      ]
    },
    {
      "cell_type": "code",
      "execution_count": 2,
      "metadata": {
        "id": "CWErNsofAz6B"
      },
      "outputs": [],
      "source": [
        "URL = 'https://tech-exercise.cloud.fiddler.ai/'  # Make sure to include the full URL (including https:// e.g. 'https://your_company_name.fiddler.ai').\n",
        "TOKEN = 'tbZHTVFYS63Ilw0H0u64KNs0k3cQ9bmPVGaovfxcYg4'"
      ]
    },
    {
      "cell_type": "markdown",
      "metadata": {
        "id": "x6O_FmsBGzBN"
      },
      "source": [
        "Constants for this example notebook, change as needed to create your own versions"
      ]
    },
    {
      "cell_type": "code",
      "execution_count": 3,
      "metadata": {
        "id": "oSTn1z1kGzBN"
      },
      "outputs": [],
      "source": [
        "PROJECT_NAME = 'noah_tech_exercise'  # If the project already exists, the notebook will create the model under the existing project.\n",
        "MODEL_NAME = 'tsunami_risk_simple_monitoring'\n",
        "\n",
        "STATIC_BASELINE_NAME = 'baseline_dataset'\n",
        "ROLLING_BASELINE_NAME = 'rolling_baseline_1week'\n",
        "\n",
        "# Sample data hosted on GitHub\n",
        "PATH_TO_SAMPLE_CSV = 'https://raw.githubusercontent.com/shadowdesigner/earthquake_data_tsunami/refs/heads/main/earthquake_data_tsunami.csv'\n",
        "#PATH_TO_EVENTS_CSV = 'https://raw.githubusercontent.com/fiddler-labs/fiddler-examples/main/quickstart/data/v3/churn_production_data.csv'"
      ]
    },
    {
      "cell_type": "markdown",
      "metadata": {
        "id": "4EttApX9BBIn"
      },
      "source": [
        "Now just run the following to connect to your Fiddler environment."
      ]
    },
    {
      "cell_type": "code",
      "execution_count": 6,
      "metadata": {
        "id": "g6ONUHliBAsH"
      },
      "outputs": [],
      "source": [
        "fdl.init(url=URL, token=TOKEN)"
      ]
    },
    {
      "cell_type": "markdown",
      "metadata": {
        "id": "QpUHeE3dBTHD"
      },
      "source": [
        "#### 1.a Create New or Load Existing Project\n",
        "\n",
        "Once you connect, you can create a new project by specifying a unique project name in the fld.Project constructor and calling the `create()` method. If the project already exists, it will load it for use."
      ]
    },
    {
      "cell_type": "code",
      "execution_count": 7,
      "metadata": {
        "id": "vh46Mp1MBSMj",
        "outputId": "2e54e1a7-c02a-4295-981b-03bdb72e2e31",
        "colab": {
          "base_uri": "https://localhost:8080/"
        }
      },
      "outputs": [
        {
          "output_type": "stream",
          "name": "stdout",
          "text": [
            "Using project with id = 18930082-8f31-4537-bd7e-ba23a7112d84 and name = noah_tech_exercise\n"
          ]
        }
      ],
      "source": [
        "project = fdl.Project.get_or_create(name=PROJECT_NAME)\n",
        "\n",
        "print(f'Using project with id = {project.id} and name = {project.name}')"
      ]
    },
    {
      "cell_type": "markdown",
      "metadata": {
        "id": "tlp8zEvlqO8I"
      },
      "source": [
        "You should now be able to see the newly created project in the Fiddler UI."
      ]
    },
    {
      "cell_type": "markdown",
      "metadata": {
        "id": "NygDk2Pyjos4"
      },
      "source": [
        "<table>\n",
        "    <tr>\n",
        "        <td>\n",
        "            <img src=\"https://raw.githubusercontent.com/fiddler-labs/fiddler-examples/main/quickstart/images/simple_monitoring_1.png\" />\n",
        "        </td>\n",
        "    </tr>\n",
        "</table>"
      ]
    },
    {
      "cell_type": "markdown",
      "metadata": {
        "id": "V3V2EhIdwA_Q"
      },
      "source": [
        "## 2. Load a Data Sample\n",
        "\n",
        "In this example, we'll be considering the case where we're a bank and we have **a model that predicts churn for our customers**.\n",
        "  \n",
        "In order to get insights into the model's performance, **Fiddler needs a small sample of data** to learn the schema of incoming data."
      ]
    },
    {
      "cell_type": "code",
      "execution_count": 8,
      "metadata": {
        "id": "TFVJcU8uCY7z",
        "outputId": "3bf4d801-f170-4d74-eb65-e45cd0571f52",
        "colab": {
          "base_uri": "https://localhost:8080/",
          "height": 424
        }
      },
      "outputs": [
        {
          "output_type": "execute_result",
          "data": {
            "text/plain": [
              "     magnitude  cdi  mmi  sig  nst   dmin   gap    depth  latitude  longitude  \\\n",
              "0          7.0    8    7  768  117  0.509  17.0   14.000   -9.7963    159.596   \n",
              "1          6.9    4    4  735   99  2.229  34.0   25.000   -4.9559    100.738   \n",
              "2          7.0    3    3  755  147  3.125  18.0  579.000  -20.0508   -178.346   \n",
              "3          7.3    5    5  833  149  1.865  21.0   37.000  -19.2918   -172.129   \n",
              "4          6.6    0    2  670  131  4.998  27.0  624.464  -25.5948    178.278   \n",
              "..         ...  ...  ...  ...  ...    ...   ...      ...       ...        ...   \n",
              "777        7.7    0    8  912  427  0.000   0.0   60.000   13.0490    -88.660   \n",
              "778        6.9    5    7  745    0  0.000   0.0   36.400   56.7744   -153.281   \n",
              "779        7.1    0    7  776  372  0.000   0.0  103.000  -14.9280    167.170   \n",
              "780        6.8    0    5  711   64  0.000   0.0   33.000    6.6310    126.899   \n",
              "781        7.5    0    7  865  324  0.000   0.0   33.000    6.8980    126.579   \n",
              "\n",
              "     Year  Month  tsunami  \n",
              "0    2022     11        1  \n",
              "1    2022     11        0  \n",
              "2    2022     11        1  \n",
              "3    2022     11        1  \n",
              "4    2022     11        1  \n",
              "..    ...    ...      ...  \n",
              "777  2001      1        0  \n",
              "778  2001      1        0  \n",
              "779  2001      1        0  \n",
              "780  2001      1        0  \n",
              "781  2001      1        0  \n",
              "\n",
              "[782 rows x 13 columns]"
            ],
            "text/html": [
              "\n",
              "  <div id=\"df-5879bedf-6fbf-49a3-9f3a-2948f82a1a05\" class=\"colab-df-container\">\n",
              "    <div>\n",
              "<style scoped>\n",
              "    .dataframe tbody tr th:only-of-type {\n",
              "        vertical-align: middle;\n",
              "    }\n",
              "\n",
              "    .dataframe tbody tr th {\n",
              "        vertical-align: top;\n",
              "    }\n",
              "\n",
              "    .dataframe thead th {\n",
              "        text-align: right;\n",
              "    }\n",
              "</style>\n",
              "<table border=\"1\" class=\"dataframe\">\n",
              "  <thead>\n",
              "    <tr style=\"text-align: right;\">\n",
              "      <th></th>\n",
              "      <th>magnitude</th>\n",
              "      <th>cdi</th>\n",
              "      <th>mmi</th>\n",
              "      <th>sig</th>\n",
              "      <th>nst</th>\n",
              "      <th>dmin</th>\n",
              "      <th>gap</th>\n",
              "      <th>depth</th>\n",
              "      <th>latitude</th>\n",
              "      <th>longitude</th>\n",
              "      <th>Year</th>\n",
              "      <th>Month</th>\n",
              "      <th>tsunami</th>\n",
              "    </tr>\n",
              "  </thead>\n",
              "  <tbody>\n",
              "    <tr>\n",
              "      <th>0</th>\n",
              "      <td>7.0</td>\n",
              "      <td>8</td>\n",
              "      <td>7</td>\n",
              "      <td>768</td>\n",
              "      <td>117</td>\n",
              "      <td>0.509</td>\n",
              "      <td>17.0</td>\n",
              "      <td>14.000</td>\n",
              "      <td>-9.7963</td>\n",
              "      <td>159.596</td>\n",
              "      <td>2022</td>\n",
              "      <td>11</td>\n",
              "      <td>1</td>\n",
              "    </tr>\n",
              "    <tr>\n",
              "      <th>1</th>\n",
              "      <td>6.9</td>\n",
              "      <td>4</td>\n",
              "      <td>4</td>\n",
              "      <td>735</td>\n",
              "      <td>99</td>\n",
              "      <td>2.229</td>\n",
              "      <td>34.0</td>\n",
              "      <td>25.000</td>\n",
              "      <td>-4.9559</td>\n",
              "      <td>100.738</td>\n",
              "      <td>2022</td>\n",
              "      <td>11</td>\n",
              "      <td>0</td>\n",
              "    </tr>\n",
              "    <tr>\n",
              "      <th>2</th>\n",
              "      <td>7.0</td>\n",
              "      <td>3</td>\n",
              "      <td>3</td>\n",
              "      <td>755</td>\n",
              "      <td>147</td>\n",
              "      <td>3.125</td>\n",
              "      <td>18.0</td>\n",
              "      <td>579.000</td>\n",
              "      <td>-20.0508</td>\n",
              "      <td>-178.346</td>\n",
              "      <td>2022</td>\n",
              "      <td>11</td>\n",
              "      <td>1</td>\n",
              "    </tr>\n",
              "    <tr>\n",
              "      <th>3</th>\n",
              "      <td>7.3</td>\n",
              "      <td>5</td>\n",
              "      <td>5</td>\n",
              "      <td>833</td>\n",
              "      <td>149</td>\n",
              "      <td>1.865</td>\n",
              "      <td>21.0</td>\n",
              "      <td>37.000</td>\n",
              "      <td>-19.2918</td>\n",
              "      <td>-172.129</td>\n",
              "      <td>2022</td>\n",
              "      <td>11</td>\n",
              "      <td>1</td>\n",
              "    </tr>\n",
              "    <tr>\n",
              "      <th>4</th>\n",
              "      <td>6.6</td>\n",
              "      <td>0</td>\n",
              "      <td>2</td>\n",
              "      <td>670</td>\n",
              "      <td>131</td>\n",
              "      <td>4.998</td>\n",
              "      <td>27.0</td>\n",
              "      <td>624.464</td>\n",
              "      <td>-25.5948</td>\n",
              "      <td>178.278</td>\n",
              "      <td>2022</td>\n",
              "      <td>11</td>\n",
              "      <td>1</td>\n",
              "    </tr>\n",
              "    <tr>\n",
              "      <th>...</th>\n",
              "      <td>...</td>\n",
              "      <td>...</td>\n",
              "      <td>...</td>\n",
              "      <td>...</td>\n",
              "      <td>...</td>\n",
              "      <td>...</td>\n",
              "      <td>...</td>\n",
              "      <td>...</td>\n",
              "      <td>...</td>\n",
              "      <td>...</td>\n",
              "      <td>...</td>\n",
              "      <td>...</td>\n",
              "      <td>...</td>\n",
              "    </tr>\n",
              "    <tr>\n",
              "      <th>777</th>\n",
              "      <td>7.7</td>\n",
              "      <td>0</td>\n",
              "      <td>8</td>\n",
              "      <td>912</td>\n",
              "      <td>427</td>\n",
              "      <td>0.000</td>\n",
              "      <td>0.0</td>\n",
              "      <td>60.000</td>\n",
              "      <td>13.0490</td>\n",
              "      <td>-88.660</td>\n",
              "      <td>2001</td>\n",
              "      <td>1</td>\n",
              "      <td>0</td>\n",
              "    </tr>\n",
              "    <tr>\n",
              "      <th>778</th>\n",
              "      <td>6.9</td>\n",
              "      <td>5</td>\n",
              "      <td>7</td>\n",
              "      <td>745</td>\n",
              "      <td>0</td>\n",
              "      <td>0.000</td>\n",
              "      <td>0.0</td>\n",
              "      <td>36.400</td>\n",
              "      <td>56.7744</td>\n",
              "      <td>-153.281</td>\n",
              "      <td>2001</td>\n",
              "      <td>1</td>\n",
              "      <td>0</td>\n",
              "    </tr>\n",
              "    <tr>\n",
              "      <th>779</th>\n",
              "      <td>7.1</td>\n",
              "      <td>0</td>\n",
              "      <td>7</td>\n",
              "      <td>776</td>\n",
              "      <td>372</td>\n",
              "      <td>0.000</td>\n",
              "      <td>0.0</td>\n",
              "      <td>103.000</td>\n",
              "      <td>-14.9280</td>\n",
              "      <td>167.170</td>\n",
              "      <td>2001</td>\n",
              "      <td>1</td>\n",
              "      <td>0</td>\n",
              "    </tr>\n",
              "    <tr>\n",
              "      <th>780</th>\n",
              "      <td>6.8</td>\n",
              "      <td>0</td>\n",
              "      <td>5</td>\n",
              "      <td>711</td>\n",
              "      <td>64</td>\n",
              "      <td>0.000</td>\n",
              "      <td>0.0</td>\n",
              "      <td>33.000</td>\n",
              "      <td>6.6310</td>\n",
              "      <td>126.899</td>\n",
              "      <td>2001</td>\n",
              "      <td>1</td>\n",
              "      <td>0</td>\n",
              "    </tr>\n",
              "    <tr>\n",
              "      <th>781</th>\n",
              "      <td>7.5</td>\n",
              "      <td>0</td>\n",
              "      <td>7</td>\n",
              "      <td>865</td>\n",
              "      <td>324</td>\n",
              "      <td>0.000</td>\n",
              "      <td>0.0</td>\n",
              "      <td>33.000</td>\n",
              "      <td>6.8980</td>\n",
              "      <td>126.579</td>\n",
              "      <td>2001</td>\n",
              "      <td>1</td>\n",
              "      <td>0</td>\n",
              "    </tr>\n",
              "  </tbody>\n",
              "</table>\n",
              "<p>782 rows × 13 columns</p>\n",
              "</div>\n",
              "    <div class=\"colab-df-buttons\">\n",
              "\n",
              "  <div class=\"colab-df-container\">\n",
              "    <button class=\"colab-df-convert\" onclick=\"convertToInteractive('df-5879bedf-6fbf-49a3-9f3a-2948f82a1a05')\"\n",
              "            title=\"Convert this dataframe to an interactive table.\"\n",
              "            style=\"display:none;\">\n",
              "\n",
              "  <svg xmlns=\"http://www.w3.org/2000/svg\" height=\"24px\" viewBox=\"0 -960 960 960\">\n",
              "    <path d=\"M120-120v-720h720v720H120Zm60-500h600v-160H180v160Zm220 220h160v-160H400v160Zm0 220h160v-160H400v160ZM180-400h160v-160H180v160Zm440 0h160v-160H620v160ZM180-180h160v-160H180v160Zm440 0h160v-160H620v160Z\"/>\n",
              "  </svg>\n",
              "    </button>\n",
              "\n",
              "  <style>\n",
              "    .colab-df-container {\n",
              "      display:flex;\n",
              "      gap: 12px;\n",
              "    }\n",
              "\n",
              "    .colab-df-convert {\n",
              "      background-color: #E8F0FE;\n",
              "      border: none;\n",
              "      border-radius: 50%;\n",
              "      cursor: pointer;\n",
              "      display: none;\n",
              "      fill: #1967D2;\n",
              "      height: 32px;\n",
              "      padding: 0 0 0 0;\n",
              "      width: 32px;\n",
              "    }\n",
              "\n",
              "    .colab-df-convert:hover {\n",
              "      background-color: #E2EBFA;\n",
              "      box-shadow: 0px 1px 2px rgba(60, 64, 67, 0.3), 0px 1px 3px 1px rgba(60, 64, 67, 0.15);\n",
              "      fill: #174EA6;\n",
              "    }\n",
              "\n",
              "    .colab-df-buttons div {\n",
              "      margin-bottom: 4px;\n",
              "    }\n",
              "\n",
              "    [theme=dark] .colab-df-convert {\n",
              "      background-color: #3B4455;\n",
              "      fill: #D2E3FC;\n",
              "    }\n",
              "\n",
              "    [theme=dark] .colab-df-convert:hover {\n",
              "      background-color: #434B5C;\n",
              "      box-shadow: 0px 1px 3px 1px rgba(0, 0, 0, 0.15);\n",
              "      filter: drop-shadow(0px 1px 2px rgba(0, 0, 0, 0.3));\n",
              "      fill: #FFFFFF;\n",
              "    }\n",
              "  </style>\n",
              "\n",
              "    <script>\n",
              "      const buttonEl =\n",
              "        document.querySelector('#df-5879bedf-6fbf-49a3-9f3a-2948f82a1a05 button.colab-df-convert');\n",
              "      buttonEl.style.display =\n",
              "        google.colab.kernel.accessAllowed ? 'block' : 'none';\n",
              "\n",
              "      async function convertToInteractive(key) {\n",
              "        const element = document.querySelector('#df-5879bedf-6fbf-49a3-9f3a-2948f82a1a05');\n",
              "        const dataTable =\n",
              "          await google.colab.kernel.invokeFunction('convertToInteractive',\n",
              "                                                    [key], {});\n",
              "        if (!dataTable) return;\n",
              "\n",
              "        const docLinkHtml = 'Like what you see? Visit the ' +\n",
              "          '<a target=\"_blank\" href=https://colab.research.google.com/notebooks/data_table.ipynb>data table notebook</a>'\n",
              "          + ' to learn more about interactive tables.';\n",
              "        element.innerHTML = '';\n",
              "        dataTable['output_type'] = 'display_data';\n",
              "        await google.colab.output.renderOutput(dataTable, element);\n",
              "        const docLink = document.createElement('div');\n",
              "        docLink.innerHTML = docLinkHtml;\n",
              "        element.appendChild(docLink);\n",
              "      }\n",
              "    </script>\n",
              "  </div>\n",
              "\n",
              "\n",
              "    <div id=\"df-80500e8d-5448-49c4-bfe9-e8e16d6d5279\">\n",
              "      <button class=\"colab-df-quickchart\" onclick=\"quickchart('df-80500e8d-5448-49c4-bfe9-e8e16d6d5279')\"\n",
              "                title=\"Suggest charts\"\n",
              "                style=\"display:none;\">\n",
              "\n",
              "<svg xmlns=\"http://www.w3.org/2000/svg\" height=\"24px\"viewBox=\"0 0 24 24\"\n",
              "     width=\"24px\">\n",
              "    <g>\n",
              "        <path d=\"M19 3H5c-1.1 0-2 .9-2 2v14c0 1.1.9 2 2 2h14c1.1 0 2-.9 2-2V5c0-1.1-.9-2-2-2zM9 17H7v-7h2v7zm4 0h-2V7h2v10zm4 0h-2v-4h2v4z\"/>\n",
              "    </g>\n",
              "</svg>\n",
              "      </button>\n",
              "\n",
              "<style>\n",
              "  .colab-df-quickchart {\n",
              "      --bg-color: #E8F0FE;\n",
              "      --fill-color: #1967D2;\n",
              "      --hover-bg-color: #E2EBFA;\n",
              "      --hover-fill-color: #174EA6;\n",
              "      --disabled-fill-color: #AAA;\n",
              "      --disabled-bg-color: #DDD;\n",
              "  }\n",
              "\n",
              "  [theme=dark] .colab-df-quickchart {\n",
              "      --bg-color: #3B4455;\n",
              "      --fill-color: #D2E3FC;\n",
              "      --hover-bg-color: #434B5C;\n",
              "      --hover-fill-color: #FFFFFF;\n",
              "      --disabled-bg-color: #3B4455;\n",
              "      --disabled-fill-color: #666;\n",
              "  }\n",
              "\n",
              "  .colab-df-quickchart {\n",
              "    background-color: var(--bg-color);\n",
              "    border: none;\n",
              "    border-radius: 50%;\n",
              "    cursor: pointer;\n",
              "    display: none;\n",
              "    fill: var(--fill-color);\n",
              "    height: 32px;\n",
              "    padding: 0;\n",
              "    width: 32px;\n",
              "  }\n",
              "\n",
              "  .colab-df-quickchart:hover {\n",
              "    background-color: var(--hover-bg-color);\n",
              "    box-shadow: 0 1px 2px rgba(60, 64, 67, 0.3), 0 1px 3px 1px rgba(60, 64, 67, 0.15);\n",
              "    fill: var(--button-hover-fill-color);\n",
              "  }\n",
              "\n",
              "  .colab-df-quickchart-complete:disabled,\n",
              "  .colab-df-quickchart-complete:disabled:hover {\n",
              "    background-color: var(--disabled-bg-color);\n",
              "    fill: var(--disabled-fill-color);\n",
              "    box-shadow: none;\n",
              "  }\n",
              "\n",
              "  .colab-df-spinner {\n",
              "    border: 2px solid var(--fill-color);\n",
              "    border-color: transparent;\n",
              "    border-bottom-color: var(--fill-color);\n",
              "    animation:\n",
              "      spin 1s steps(1) infinite;\n",
              "  }\n",
              "\n",
              "  @keyframes spin {\n",
              "    0% {\n",
              "      border-color: transparent;\n",
              "      border-bottom-color: var(--fill-color);\n",
              "      border-left-color: var(--fill-color);\n",
              "    }\n",
              "    20% {\n",
              "      border-color: transparent;\n",
              "      border-left-color: var(--fill-color);\n",
              "      border-top-color: var(--fill-color);\n",
              "    }\n",
              "    30% {\n",
              "      border-color: transparent;\n",
              "      border-left-color: var(--fill-color);\n",
              "      border-top-color: var(--fill-color);\n",
              "      border-right-color: var(--fill-color);\n",
              "    }\n",
              "    40% {\n",
              "      border-color: transparent;\n",
              "      border-right-color: var(--fill-color);\n",
              "      border-top-color: var(--fill-color);\n",
              "    }\n",
              "    60% {\n",
              "      border-color: transparent;\n",
              "      border-right-color: var(--fill-color);\n",
              "    }\n",
              "    80% {\n",
              "      border-color: transparent;\n",
              "      border-right-color: var(--fill-color);\n",
              "      border-bottom-color: var(--fill-color);\n",
              "    }\n",
              "    90% {\n",
              "      border-color: transparent;\n",
              "      border-bottom-color: var(--fill-color);\n",
              "    }\n",
              "  }\n",
              "</style>\n",
              "\n",
              "      <script>\n",
              "        async function quickchart(key) {\n",
              "          const quickchartButtonEl =\n",
              "            document.querySelector('#' + key + ' button');\n",
              "          quickchartButtonEl.disabled = true;  // To prevent multiple clicks.\n",
              "          quickchartButtonEl.classList.add('colab-df-spinner');\n",
              "          try {\n",
              "            const charts = await google.colab.kernel.invokeFunction(\n",
              "                'suggestCharts', [key], {});\n",
              "          } catch (error) {\n",
              "            console.error('Error during call to suggestCharts:', error);\n",
              "          }\n",
              "          quickchartButtonEl.classList.remove('colab-df-spinner');\n",
              "          quickchartButtonEl.classList.add('colab-df-quickchart-complete');\n",
              "        }\n",
              "        (() => {\n",
              "          let quickchartButtonEl =\n",
              "            document.querySelector('#df-80500e8d-5448-49c4-bfe9-e8e16d6d5279 button');\n",
              "          quickchartButtonEl.style.display =\n",
              "            google.colab.kernel.accessAllowed ? 'block' : 'none';\n",
              "        })();\n",
              "      </script>\n",
              "    </div>\n",
              "\n",
              "  <div id=\"id_1b08fc96-27da-44f4-b57c-b28682e94e37\">\n",
              "    <style>\n",
              "      .colab-df-generate {\n",
              "        background-color: #E8F0FE;\n",
              "        border: none;\n",
              "        border-radius: 50%;\n",
              "        cursor: pointer;\n",
              "        display: none;\n",
              "        fill: #1967D2;\n",
              "        height: 32px;\n",
              "        padding: 0 0 0 0;\n",
              "        width: 32px;\n",
              "      }\n",
              "\n",
              "      .colab-df-generate:hover {\n",
              "        background-color: #E2EBFA;\n",
              "        box-shadow: 0px 1px 2px rgba(60, 64, 67, 0.3), 0px 1px 3px 1px rgba(60, 64, 67, 0.15);\n",
              "        fill: #174EA6;\n",
              "      }\n",
              "\n",
              "      [theme=dark] .colab-df-generate {\n",
              "        background-color: #3B4455;\n",
              "        fill: #D2E3FC;\n",
              "      }\n",
              "\n",
              "      [theme=dark] .colab-df-generate:hover {\n",
              "        background-color: #434B5C;\n",
              "        box-shadow: 0px 1px 3px 1px rgba(0, 0, 0, 0.15);\n",
              "        filter: drop-shadow(0px 1px 2px rgba(0, 0, 0, 0.3));\n",
              "        fill: #FFFFFF;\n",
              "      }\n",
              "    </style>\n",
              "    <button class=\"colab-df-generate\" onclick=\"generateWithVariable('sample_data_df')\"\n",
              "            title=\"Generate code using this dataframe.\"\n",
              "            style=\"display:none;\">\n",
              "\n",
              "  <svg xmlns=\"http://www.w3.org/2000/svg\" height=\"24px\"viewBox=\"0 0 24 24\"\n",
              "       width=\"24px\">\n",
              "    <path d=\"M7,19H8.4L18.45,9,17,7.55,7,17.6ZM5,21V16.75L18.45,3.32a2,2,0,0,1,2.83,0l1.4,1.43a1.91,1.91,0,0,1,.58,1.4,1.91,1.91,0,0,1-.58,1.4L9.25,21ZM18.45,9,17,7.55Zm-12,3A5.31,5.31,0,0,0,4.9,8.1,5.31,5.31,0,0,0,1,6.5,5.31,5.31,0,0,0,4.9,4.9,5.31,5.31,0,0,0,6.5,1,5.31,5.31,0,0,0,8.1,4.9,5.31,5.31,0,0,0,12,6.5,5.46,5.46,0,0,0,6.5,12Z\"/>\n",
              "  </svg>\n",
              "    </button>\n",
              "    <script>\n",
              "      (() => {\n",
              "      const buttonEl =\n",
              "        document.querySelector('#id_1b08fc96-27da-44f4-b57c-b28682e94e37 button.colab-df-generate');\n",
              "      buttonEl.style.display =\n",
              "        google.colab.kernel.accessAllowed ? 'block' : 'none';\n",
              "\n",
              "      buttonEl.onclick = () => {\n",
              "        google.colab.notebook.generateWithVariable('sample_data_df');\n",
              "      }\n",
              "      })();\n",
              "    </script>\n",
              "  </div>\n",
              "\n",
              "    </div>\n",
              "  </div>\n"
            ],
            "application/vnd.google.colaboratory.intrinsic+json": {
              "type": "dataframe",
              "variable_name": "sample_data_df",
              "summary": "{\n  \"name\": \"sample_data_df\",\n  \"rows\": 782,\n  \"fields\": [\n    {\n      \"column\": \"magnitude\",\n      \"properties\": {\n        \"dtype\": \"number\",\n        \"std\": 0.445514003048737,\n        \"min\": 6.5,\n        \"max\": 9.1,\n        \"num_unique_values\": 24,\n        \"samples\": [\n          7.2,\n          8.0,\n          7.0\n        ],\n        \"semantic_type\": \"\",\n        \"description\": \"\"\n      }\n    },\n    {\n      \"column\": \"cdi\",\n      \"properties\": {\n        \"dtype\": \"number\",\n        \"std\": 3,\n        \"min\": 0,\n        \"max\": 9,\n        \"num_unique_values\": 10,\n        \"samples\": [\n          2,\n          4,\n          1\n        ],\n        \"semantic_type\": \"\",\n        \"description\": \"\"\n      }\n    },\n    {\n      \"column\": \"mmi\",\n      \"properties\": {\n        \"dtype\": \"number\",\n        \"std\": 1,\n        \"min\": 1,\n        \"max\": 9,\n        \"num_unique_values\": 9,\n        \"samples\": [\n          9,\n          4,\n          6\n        ],\n        \"semantic_type\": \"\",\n        \"description\": \"\"\n      }\n    },\n    {\n      \"column\": \"sig\",\n      \"properties\": {\n        \"dtype\": \"number\",\n        \"std\": 322,\n        \"min\": 650,\n        \"max\": 2910,\n        \"num_unique_values\": 339,\n        \"samples\": [\n          701,\n          655,\n          1790\n        ],\n        \"semantic_type\": \"\",\n        \"description\": \"\"\n      }\n    },\n    {\n      \"column\": \"nst\",\n      \"properties\": {\n        \"dtype\": \"number\",\n        \"std\": 250,\n        \"min\": 0,\n        \"max\": 934,\n        \"num_unique_values\": 312,\n        \"samples\": [\n          323,\n          271,\n          686\n        ],\n        \"semantic_type\": \"\",\n        \"description\": \"\"\n      }\n    },\n    {\n      \"column\": \"dmin\",\n      \"properties\": {\n        \"dtype\": \"number\",\n        \"std\": 2.2188049569049353,\n        \"min\": 0.0,\n        \"max\": 17.654,\n        \"num_unique_values\": 369,\n        \"samples\": [\n          3.121,\n          0.0,\n          5.293\n        ],\n        \"semantic_type\": \"\",\n        \"description\": \"\"\n      }\n    },\n    {\n      \"column\": \"gap\",\n      \"properties\": {\n        \"dtype\": \"number\",\n        \"std\": 24.225066786738033,\n        \"min\": 0.0,\n        \"max\": 239.0,\n        \"num_unique_values\": 256,\n        \"samples\": [\n          50.2,\n          22.0,\n          14.2\n        ],\n        \"semantic_type\": \"\",\n        \"description\": \"\"\n      }\n    },\n    {\n      \"column\": \"depth\",\n      \"properties\": {\n        \"dtype\": \"number\",\n        \"std\": 137.2770781927863,\n        \"min\": 2.7,\n        \"max\": 670.81,\n        \"num_unique_values\": 303,\n        \"samples\": [\n          434.0,\n          32.0,\n          5.81\n        ],\n        \"semantic_type\": \"\",\n        \"description\": \"\"\n      }\n    },\n    {\n      \"column\": \"latitude\",\n      \"properties\": {\n        \"dtype\": \"number\",\n        \"std\": 27.30342917130246,\n        \"min\": -61.8484,\n        \"max\": 71.6312,\n        \"num_unique_values\": 778,\n        \"samples\": [\n          -13.386,\n          -2.13,\n          -23.043\n        ],\n        \"semantic_type\": \"\",\n        \"description\": \"\"\n      }\n    },\n    {\n      \"column\": \"longitude\",\n      \"properties\": {\n        \"dtype\": \"number\",\n        \"std\": 117.89888599066005,\n        \"min\": -179.968,\n        \"max\": 179.662,\n        \"num_unique_values\": 777,\n        \"samples\": [\n          95.964,\n          101.524,\n          120.547\n        ],\n        \"semantic_type\": \"\",\n        \"description\": \"\"\n      }\n    },\n    {\n      \"column\": \"Year\",\n      \"properties\": {\n        \"dtype\": \"number\",\n        \"std\": 6,\n        \"min\": 2001,\n        \"max\": 2022,\n        \"num_unique_values\": 22,\n        \"samples\": [\n          2022,\n          2009,\n          2014\n        ],\n        \"semantic_type\": \"\",\n        \"description\": \"\"\n      }\n    },\n    {\n      \"column\": \"Month\",\n      \"properties\": {\n        \"dtype\": \"number\",\n        \"std\": 3,\n        \"min\": 1,\n        \"max\": 12,\n        \"num_unique_values\": 12,\n        \"samples\": [\n          1,\n          2,\n          11\n        ],\n        \"semantic_type\": \"\",\n        \"description\": \"\"\n      }\n    },\n    {\n      \"column\": \"tsunami\",\n      \"properties\": {\n        \"dtype\": \"number\",\n        \"std\": 0,\n        \"min\": 0,\n        \"max\": 1,\n        \"num_unique_values\": 2,\n        \"samples\": [\n          0,\n          1\n        ],\n        \"semantic_type\": \"\",\n        \"description\": \"\"\n      }\n    }\n  ]\n}"
            }
          },
          "metadata": {},
          "execution_count": 8
        }
      ],
      "source": [
        "sample_data_df = pd.read_csv(PATH_TO_SAMPLE_CSV)\n",
        "column_list  = sample_data_df.columns\n",
        "sample_data_df"
      ]
    },
    {
      "cell_type": "markdown",
      "metadata": {
        "id": "IK3sL73_4FxO"
      },
      "source": [
        "## 3. Define the Model Specifications\n",
        "\n",
        "In order to create a model in Fiddler, create a ModelSpec object with information about what each column of your data sample should used for.\n",
        "\n",
        "Fiddler supports four column types:\n",
        "1. **Inputs**\n",
        "2. **Outputs** (Model predictions)\n",
        "3. **Target** (Ground truth values)\n",
        "4. **Metadata**"
      ]
    },
    {
      "cell_type": "code",
      "execution_count": 9,
      "metadata": {
        "id": "nRi5V_QsGzBQ"
      },
      "outputs": [],
      "source": [
        "input_columns = list(\n",
        "    #column_list.drop(['predicted_churn', 'churn', 'customer_id', 'timestamp'])\n",
        "    column_list.drop(['magnitude', 'Year', 'Month', 'tsunami'])\n",
        ")"
      ]
    },
    {
      "cell_type": "code",
      "execution_count": 10,
      "metadata": {
        "id": "wqyBTZn3NJPU"
      },
      "outputs": [],
      "source": [
        "model_spec = fdl.ModelSpec(\n",
        "    inputs=input_columns,\n",
        "    outputs=['magnitude'],\n",
        "    targets=['tsunami'],  # Note: only a single Target column is allowed, use metadata columns and custom metrics for additional targets\n",
        "    metadata=['Year', 'Month'],\n",
        ")"
      ]
    },
    {
      "cell_type": "markdown",
      "metadata": {
        "id": "NJnGYRMeGzBQ"
      },
      "source": [
        "If you have columns in your ModelSpec which denote **prediction IDs or timestamps**, then Fiddler can use these to power its analytics accordingly.\n",
        "\n",
        "Let's call them out here and use them when configuring the Model in step 5."
      ]
    },
    {
      "cell_type": "code",
      "execution_count": 11,
      "metadata": {
        "id": "9coEUW5lGzBQ"
      },
      "outputs": [],
      "source": [
        "id_column = 'Year'\n",
        "timestamp_column = 'Month'"
      ]
    },
    {
      "cell_type": "markdown",
      "metadata": {
        "id": "wtStfUQmGzBQ"
      },
      "source": [
        "## 4. Set the Model Task\n",
        "\n",
        "Fiddler supports a variety of model tasks. In this case, we're adding a binary classification model.\n",
        "\n",
        "For this, we'll create a ModelTask object and an additional ModelTaskParams object to specify the ordering of our positive and negative labels.\n",
        "\n",
        "*For a detailed breakdown of all supported model tasks, click [here](https://docs.fiddler.ai/technical-reference/python-client-guides/explainability/model-task-examples).*"
      ]
    },
    {
      "cell_type": "code",
      "execution_count": 14,
      "metadata": {
        "id": "3B-Op-t_GzBR"
      },
      "outputs": [],
      "source": [
        "model_task = fdl.ModelTask.BINARY_CLASSIFICATION\n",
        "\n",
        "task_params = fdl.ModelTaskParams(target_class_order=[0, 1])"
      ]
    },
    {
      "cell_type": "markdown",
      "metadata": {
        "id": "TglC6gkVGzBR"
      },
      "source": [
        "## 5. Create a Model\n",
        "\n",
        "Create a Model object and publish it to Fiddler, passing in\n",
        "1. Your data sample\n",
        "2. The ModelSpec object\n",
        "3. The ModelTask and ModelTaskParams objects\n",
        "4. The ID and timestamp columns"
      ]
    },
    {
      "cell_type": "code",
      "execution_count": 15,
      "metadata": {
        "id": "UnO4mZGEGzBR",
        "outputId": "4ac6681c-6841-4171-91cf-12de754e8f7b",
        "colab": {
          "base_uri": "https://localhost:8080/"
        }
      },
      "outputs": [
        {
          "output_type": "stream",
          "name": "stdout",
          "text": [
            "New model created with id = f5b720e9-b587-4a8f-8e2a-1bd13c5f9da3 and name = tsunami_risk_simple_monitoring\n"
          ]
        }
      ],
      "source": [
        "model = fdl.Model.from_data(\n",
        "    name=MODEL_NAME,\n",
        "    project_id=project.id,\n",
        "    source=sample_data_df,\n",
        "    spec=model_spec,\n",
        "    task=model_task,\n",
        "    task_params=task_params,\n",
        "    event_id_col=id_column,\n",
        "    event_ts_col=timestamp_column,\n",
        ")\n",
        "\n",
        "model.create()\n",
        "print(f'New model created with id = {model.id} and name = {model.name}')"
      ]
    },
    {
      "cell_type": "markdown",
      "metadata": {
        "id": "0GmqFXTYwRg6"
      },
      "source": [
        "On the project page, you should now be able to see the newly onboarded model with its model schema."
      ]
    },
    {
      "cell_type": "markdown",
      "metadata": {
        "id": "wbaDq7wZjos8"
      },
      "source": [
        "<table>\n",
        "    <tr>\n",
        "        <td>\n",
        "            <img src=\"https://github.com/fiddler-labs/fiddler-examples/blob/main/quickstart/images/simple_monitoring_3.png?raw=true\" />\n",
        "        </td>\n",
        "    </tr>\n",
        "</table>"
      ]
    },
    {
      "cell_type": "markdown",
      "metadata": {
        "id": "Ed1_OS6ajos8"
      },
      "source": [
        "<table>\n",
        "    <tr>\n",
        "        <td>\n",
        "            <img src=\"https://github.com/fiddler-labs/fiddler-examples/blob/main/quickstart/images/simple_monitoring_4.png?raw=true\" />\n",
        "        </td>\n",
        "    </tr>\n",
        "</table>"
      ]
    },
    {
      "cell_type": "markdown",
      "metadata": {
        "id": "R-hj33B10Ssw"
      },
      "source": [
        "## 6. Set Up Alerts (Optional)\n",
        "\n",
        "Fiddler allows creating alerting rules when your data or model predictions deviate from expected behavior.\n",
        "\n",
        "The alert rules can compare metrics to **absolute** or **relative** values.\n",
        "\n",
        "Please refer to [our documentation](https://docs.fiddler.ai/technical-reference/python-client-guides/alerts-with-fiddler-client) for more information on Alert Rules.\n",
        "\n",
        "---\n",
        "  \n",
        "Let's set up some alert rules.\n",
        "\n",
        "The following API call sets up a Data Integrity type rule which triggers an email notification when published events have 2 or more range violations in any 1 day bin for the `numofproducts` column."
      ]
    },
    {
      "cell_type": "code",
      "execution_count": null,
      "metadata": {
        "id": "_M9F22O621Ec",
        "outputId": "d8512c34-9944-4537-9533-2317e2ae8752",
        "colab": {
          "base_uri": "https://localhost:8080/",
          "height": 211
        }
      },
      "outputs": [
        {
          "output_type": "error",
          "ename": "NameError",
          "evalue": "name 'model' is not defined",
          "traceback": [
            "\u001b[0;31m---------------------------------------------------------------------------\u001b[0m",
            "\u001b[0;31mNameError\u001b[0m                                 Traceback (most recent call last)",
            "\u001b[0;32m/tmp/ipython-input-454316097.py\u001b[0m in \u001b[0;36m<cell line: 0>\u001b[0;34m()\u001b[0m\n\u001b[1;32m      1\u001b[0m alert_rule_1 = fdl.AlertRule(\n\u001b[1;32m      2\u001b[0m     \u001b[0mname\u001b[0m\u001b[0;34m=\u001b[0m\u001b[0;34m'Bank Churn Range Violation Alert'\u001b[0m\u001b[0;34m,\u001b[0m\u001b[0;34m\u001b[0m\u001b[0;34m\u001b[0m\u001b[0m\n\u001b[0;32m----> 3\u001b[0;31m     \u001b[0mmodel_id\u001b[0m\u001b[0;34m=\u001b[0m\u001b[0mmodel\u001b[0m\u001b[0;34m.\u001b[0m\u001b[0mid\u001b[0m\u001b[0;34m,\u001b[0m\u001b[0;34m\u001b[0m\u001b[0;34m\u001b[0m\u001b[0m\n\u001b[0m\u001b[1;32m      4\u001b[0m     \u001b[0mmetric_id\u001b[0m\u001b[0;34m=\u001b[0m\u001b[0;34m'range_violation_count'\u001b[0m\u001b[0;34m,\u001b[0m\u001b[0;34m\u001b[0m\u001b[0;34m\u001b[0m\u001b[0m\n\u001b[1;32m      5\u001b[0m     \u001b[0mbin_size\u001b[0m\u001b[0;34m=\u001b[0m\u001b[0mfdl\u001b[0m\u001b[0;34m.\u001b[0m\u001b[0mBinSize\u001b[0m\u001b[0;34m.\u001b[0m\u001b[0mDAY\u001b[0m\u001b[0;34m,\u001b[0m\u001b[0;34m\u001b[0m\u001b[0;34m\u001b[0m\u001b[0m\n",
            "\u001b[0;31mNameError\u001b[0m: name 'model' is not defined"
          ]
        }
      ],
      "source": [
        "alert_rule_1 = fdl.AlertRule(\n",
        "    name='Bank Churn Range Violation Alert',\n",
        "    model_id=model.id,\n",
        "    metric_id='range_violation_count',\n",
        "    bin_size=fdl.BinSize.DAY,\n",
        "    compare_to=fdl.CompareTo.RAW_VALUE,\n",
        "    priority=fdl.Priority.HIGH,\n",
        "    warning_threshold=2,\n",
        "    critical_threshold=3,\n",
        "    condition=fdl.AlertCondition.GREATER,\n",
        "    columns=['numofproducts'],\n",
        ")\n",
        "\n",
        "alert_rule_1.create()\n",
        "print(\n",
        "    f'New alert rule created with id = {alert_rule_1.id} and name = {alert_rule_1.name}'\n",
        ")\n",
        "\n",
        "# Set notification configuration for the alert rule, a single email address for this simple example\n",
        "alert_rule_1.set_notification_config(emails=['name@google.com'])"
      ]
    },
    {
      "cell_type": "markdown",
      "metadata": {
        "id": "xb1Zr4zj6sxN"
      },
      "source": [
        "Let's add a second alert rule.\n",
        "\n",
        "This one sets up a Performance type rule which triggers an email notification when precision metric is 5% higher than that from 1 hr bin one day ago."
      ]
    },
    {
      "cell_type": "code",
      "execution_count": null,
      "metadata": {
        "id": "XFfixd43GzBS"
      },
      "outputs": [],
      "source": [
        "alert_rule_2 = fdl.AlertRule(\n",
        "    name='Bank Churn Performance Alert',\n",
        "    model_id=model.id,\n",
        "    metric_id='precision',\n",
        "    bin_size=fdl.BinSize.HOUR,\n",
        "    compare_to=fdl.CompareTo.TIME_PERIOD,\n",
        "    compare_bin_delta=24,  # Multiple of the bin size\n",
        "    condition=fdl.AlertCondition.GREATER,\n",
        "    warning_threshold=0.05,\n",
        "    critical_threshold=0.1,\n",
        "    priority=fdl.Priority.HIGH,\n",
        ")\n",
        "\n",
        "alert_rule_2.create()\n",
        "print(\n",
        "    f'New alert rule created with id = {alert_rule_2.id} and name = {alert_rule_2.name}'\n",
        ")\n",
        "\n",
        "# Set notification configuration for the alert rule, a single email address for this simple example\n",
        "alert_rule_2.set_notification_config(emails=['name@google.com'])"
      ]
    },
    {
      "cell_type": "markdown",
      "metadata": {
        "id": "GZNJ5NNm5vnA"
      },
      "source": [
        "## 7. Create a Custom Metric (Optional)\n",
        "\n",
        "Fiddler's [Custom Metrics](https://docs.fiddler.ai/technical-reference/api-methods-30#custom-metrics) feature enables user-defined formulas for custom metrics.  Custom metrics will be tracked over time and can be used in Charts and Alerts just like the many out of the box metrics provided by Fiddler.  Custom metrics can also be managed in the Fiddler UI.\n",
        "\n",
        "Please refer to [our documentation](https://docs.fiddler.ai/product-guide/monitoring-platform/custom-metrics) for more information on Custom Metrics.\n",
        "\n",
        "---\n",
        "  \n",
        "Let's create an example custom metric."
      ]
    },
    {
      "cell_type": "code",
      "execution_count": null,
      "metadata": {
        "id": "J7uza2kwjos9"
      },
      "outputs": [],
      "source": [
        "custom_metric = fdl.CustomMetric(\n",
        "    name='Lost Revenue',\n",
        "    model_id=model.id,\n",
        "    description='A metric to track revenue lost for each false positive prediction.',\n",
        "    definition=\"\"\"sum(if(fp(),1,0) * -100)\"\"\",  # This is an excel like formula which adds -$100 for each false positive predicted by the model\n",
        ")\n",
        "\n",
        "custom_metric.create()\n",
        "print(\n",
        "    f'New custom metric created with id = {custom_metric.id} and name = {custom_metric.name}'\n",
        ")"
      ]
    },
    {
      "cell_type": "markdown",
      "metadata": {
        "id": "Z47Kx5Iujos9"
      },
      "source": [
        "## 8. Create a Segment (Optional)\n",
        "Fiddler's [Segment API](https://docs.fiddler.ai/technical-reference/api-methods-30#segments) enables defining named cohorts/sub-segments in your production data. These segments can be tracked over time, added to charts, and alerted upon. Segments can also be managed in the Fiddler UI.\n",
        "\n",
        "Please refer to our [documentation](https://docs.fiddler.ai/product-guide/monitoring-platform/segments) for more information on the creation and management of segments.\n",
        "\n",
        "Let's create a segment to track customers from Hawaii for a specific age range."
      ]
    },
    {
      "cell_type": "code",
      "execution_count": null,
      "metadata": {
        "id": "oZ1iE8wqjos-"
      },
      "outputs": [],
      "source": [
        "segment = fdl.Segment(\n",
        "    name='Hawaii Customers between 30 and 60',\n",
        "    model_id=model.id,\n",
        "    description='Hawaii Customers between 30 and 60',\n",
        "    definition=\"(age<60 and age>30) and geography=='Hawaii'\",\n",
        ")\n",
        "\n",
        "segment.create()\n",
        "print(f'New segment created with id = {segment.id} and name = {segment.name}')"
      ]
    },
    {
      "cell_type": "markdown",
      "metadata": {
        "id": "PS-vjL_7GzBS"
      },
      "source": [
        "## 9. Publish a Static Baseline (Optional)"
      ]
    },
    {
      "cell_type": "markdown",
      "metadata": {
        "id": "HuK1LKQnGzBS"
      },
      "source": [
        "Since Fiddler already knows how to process data for your model, we can now add a **baseline dataset**.\n",
        "\n",
        "You can think of this as a static dataset which represents **\"golden data,\"** or the kind of data your model expects to receive.\n",
        "\n",
        "Then, once we start sending production data to Fiddler, you'll be able to see **drift scores** telling you whenever it starts to diverge from this static baseline.\n",
        "\n",
        "***\n",
        "\n",
        "Let's publish our **original data sample** as a pre-production dataset and then explicitly create a baseline from it.\n",
        "\n",
        "**Note:** As of recent updates, baseline creation is now a separate, explicit step after uploading pre-production data. This gives you more control over when and how baselines are created.\n",
        "\n",
        "\n",
        "*For more information on how to design your baseline dataset, [click here](https://docs.fiddler.ai/technical-reference/python-client-guides/publishing-production-data/creating-a-baseline-dataset).*"
      ]
    },
    {
      "cell_type": "code",
      "execution_count": null,
      "metadata": {
        "id": "LDGMh8B4GzBT"
      },
      "outputs": [],
      "source": [
        "# Upload the pre-production data to make it available as a baseline\n",
        "baseline_publish_job = model.publish(\n",
        "    source=sample_data_df,\n",
        "    environment=fdl.EnvType.PRE_PRODUCTION,\n",
        "    dataset_name=STATIC_BASELINE_NAME,\n",
        ")\n",
        "print(\n",
        "    f'Initiated pre-production environment data upload with Job ID = {baseline_publish_job.id}'\n",
        ")\n",
        "\n",
        "# Uncomment the line below to wait for the job to finish, otherwise it will run in the background.\n",
        "# You can check the status on the Jobs page in the Fiddler UI or use the job ID to query the job status via the API.\n",
        "# baseline_publish_job.wait()"
      ]
    },
    {
      "cell_type": "markdown",
      "metadata": {
        "id": "0vCZERnNGzBX"
      },
      "source": [
        "Now we need to **explicitly create a baseline** from the uploaded data. This step is required as automatic baseline creation has been removed from the pre-production data upload process."
      ]
    },
    {
      "cell_type": "markdown",
      "metadata": {
        "id": "P21mz652jos9"
      },
      "source": [
        "## 10. Configure a Rolling Baseline (Optional)\n",
        "\n",
        "Fiddler also allows you to configure a baseline based on **past production data.**\n",
        "\n",
        "This means instead of looking at a static slice of data, it will look into past production events and use what it finds for drift calculation.\n",
        "\n",
        "Please refer to [our documentation](https://docs.fiddler.ai/technical-reference/python-client-guides/publishing-production-data/creating-a-baseline-dataset) for more information on Baselines.\n",
        "\n",
        "---\n",
        "  \n",
        "Let's set up a rolling baseline that will allow us to calculate drift relative to production data from 1 week back."
      ]
    },
    {
      "cell_type": "code",
      "execution_count": null,
      "metadata": {
        "id": "b2Fv0N3tjos9"
      },
      "outputs": [],
      "source": [
        "rolling_baseline = fdl.Baseline(\n",
        "    model_id=model.id,\n",
        "    name=ROLLING_BASELINE_NAME,\n",
        "    type_=fdl.BaselineType.ROLLING,\n",
        "    environment=fdl.EnvType.PRODUCTION,\n",
        "    window_bin_size=fdl.WindowBinSize.DAY,  # Size of the sliding window\n",
        "    offset_delta=7,  # How far back to set our window (multiple of window_bin_size)\n",
        ")\n",
        "\n",
        "rolling_baseline.create()\n",
        "print(\n",
        "    f'New rolling baseline created with id = {rolling_baseline.id} and name = {rolling_baseline.name}'\n",
        ")"
      ]
    },
    {
      "cell_type": "markdown",
      "metadata": {
        "id": "1BKLkIgPjos-"
      },
      "source": [
        "## 11. Publish Production Events\n",
        "\n",
        "Finally, let's send in some production data!\n",
        "\n",
        "\n",
        "Fiddler will **monitor this data and compare it to your baseline to generate powerful insights into how your model is behaving**.\n",
        "\n",
        "\n",
        "---\n",
        "\n",
        "\n",
        "Each record sent to Fiddler is called **an event**.\n",
        "  \n",
        "Let's load some sample events from a CSV file."
      ]
    },
    {
      "cell_type": "code",
      "execution_count": null,
      "metadata": {
        "id": "1dmA8PP7GTdJ"
      },
      "outputs": [],
      "source": [
        "production_data_df = pd.read_csv(PATH_TO_EVENTS_CSV)\n",
        "\n",
        "# Shift the timestamps of the production events to be as recent as today\n",
        "production_data_df['timestamp'] = production_data_df['timestamp'] + (\n",
        "    int(time.time() * 1000) - production_data_df['timestamp'].max()\n",
        ")\n",
        "production_data_df"
      ]
    },
    {
      "cell_type": "code",
      "execution_count": null,
      "metadata": {
        "id": "TI-gqrMmhEOe"
      },
      "outputs": [],
      "source": [
        "production_publish_job = model.publish(production_data_df)\n",
        "\n",
        "print(\n",
        "    f'Initiated production environment data upload with Job ID = {production_publish_job.id}'\n",
        ")\n",
        "\n",
        "# Uncomment the line below to wait for the job to finish, otherwise it will run in the background.\n",
        "# You can check the status on the Jobs page in the Fiddler UI or use the job ID to query the job status via the API.\n",
        "# production_publish_job.wait()"
      ]
    },
    {
      "cell_type": "markdown",
      "metadata": {
        "id": "vR6IR8YNHgG1"
      },
      "source": [
        "# Get Insights\n",
        "  \n",
        "Return to your Fiddler environment to get enhanced observability into your model's performance."
      ]
    },
    {
      "cell_type": "markdown",
      "metadata": {
        "id": "-DZMVHAEBzC_"
      },
      "source": [
        "<table>\n",
        "    <tr>\n",
        "        <td>\n",
        "            <img src=\"https://raw.githubusercontent.com/fiddler-labs/fiddler-examples/main/quickstart/images/simple_monitoring_5.png\" />\n",
        "        </td>\n",
        "    </tr>\n",
        "</table>"
      ]
    },
    {
      "cell_type": "markdown",
      "metadata": {
        "id": "Jdkj1eHgOTAO"
      },
      "source": [
        "**What's Next?**\n",
        "\n",
        "Try the [LLM Monitoring - Quick Start Notebook](https://docs.fiddler.ai/tutorials-and-quick-starts/llm-and-genai/simple-llm-monitoring)\n",
        "\n",
        "---\n",
        "\n",
        "\n",
        "**Questions?**  \n",
        "  \n",
        "Check out [our docs](https://docs.fiddler.ai/) for a more detailed explanation of what Fiddler has to offer."
      ]
    }
  ],
  "metadata": {
    "colab": {
      "provenance": [],
      "include_colab_link": true
    },
    "kernelspec": {
      "display_name": "Python 3",
      "language": "python",
      "name": "python3"
    },
    "language_info": {
      "codemirror_mode": {
        "name": "ipython",
        "version": 3
      },
      "file_extension": ".py",
      "mimetype": "text/x-python",
      "name": "python",
      "nbconvert_exporter": "python",
      "pygments_lexer": "ipython3",
      "version": "3.10.13"
    }
  },
  "nbformat": 4,
  "nbformat_minor": 0
}